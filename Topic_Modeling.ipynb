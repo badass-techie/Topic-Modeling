{
  "nbformat": 4,
  "nbformat_minor": 0,
  "metadata": {
    "colab": {
      "name": "Topic Modeling.ipynb",
      "provenance": []
    },
    "kernelspec": {
      "name": "python3",
      "display_name": "Python 3"
    },
    "language_info": {
      "name": "python"
    }
  },
  "cells": [
    {
      "cell_type": "code",
      "metadata": {
        "id": "5F1eThT7hv4z"
      },
      "source": [
        "#import packages\n",
        "import pandas as pd\n",
        "import numpy as np\n",
        "from sklearn.feature_extraction.text import TfidfVectorizer, CountVectorizer\n",
        "from sklearn.decomposition import LatentDirichletAllocation"
      ],
      "execution_count": 1,
      "outputs": []
    },
    {
      "cell_type": "code",
      "metadata": {
        "colab": {
          "base_uri": "https://localhost:8080/"
        },
        "id": "096OpJ2vx-Xh",
        "outputId": "1aafb4bf-c0f8-444b-b54d-773e60ea3cc8"
      },
      "source": [
        "#scrape reviews for the facebook android app\n",
        "!pip install google_play_scraper\n",
        "from google_play_scraper import Sort, reviews_all\n",
        "\n",
        "reviews = reviews_all(\n",
        "    'com.facebook.katana',\n",
        "    lang='en', # defaults to 'en'\n",
        "    country='us', # defaults to 'us'\n",
        "    sort=Sort.MOST_RELEVANT, # defaults to Sort.MOST_RELEVANT\n",
        "    count=10000, # defaults to 100\n",
        "    filter_score_with=None # defaults to None(means all score)\n",
        ")\n",
        "\n",
        "print(len(reviews))\n",
        "reviews = pd.DataFrame(reviews)#[['userName', 'content', 'score']]\n",
        "reviews.to_csv('reviews.csv')"
      ],
      "execution_count": 2,
      "outputs": [
        {
          "output_type": "stream",
          "text": [
            "Requirement already satisfied: google_play_scraper in /usr/local/lib/python3.7/dist-packages (1.0.1)\n",
            "3184\n"
          ],
          "name": "stdout"
        }
      ]
    },
    {
      "cell_type": "code",
      "metadata": {
        "id": "6mxfZ0ZOZUGn"
      },
      "source": [
        "n_features = 5000   # number of words to use\n",
        "n_components = 50  # number of topics"
      ],
      "execution_count": 3,
      "outputs": []
    },
    {
      "cell_type": "code",
      "metadata": {
        "id": "Yrc6m5UdZi7h"
      },
      "source": [
        "# count vectorizer\n",
        "tf_vectorizer = CountVectorizer(max_df=0.95, min_df=2,\n",
        "                                max_features=n_features,\n",
        "                                stop_words='english')\n",
        "\n",
        "tf = tf_vectorizer.fit_transform(reviews['content'])"
      ],
      "execution_count": 4,
      "outputs": []
    },
    {
      "cell_type": "code",
      "metadata": {
        "colab": {
          "base_uri": "https://localhost:8080/"
        },
        "id": "JsQ0z_eOZxNq",
        "outputId": "45afec54-3188-4414-cd27-8092b50aeef0"
      },
      "source": [
        "# lda\n",
        "lda = LatentDirichletAllocation(n_components=n_components, max_iter=25,\n",
        "                                learning_method='online', random_state=0)\n",
        "lda.fit(tf)"
      ],
      "execution_count": 5,
      "outputs": [
        {
          "output_type": "execute_result",
          "data": {
            "text/plain": [
              "LatentDirichletAllocation(batch_size=128, doc_topic_prior=None,\n",
              "                          evaluate_every=-1, learning_decay=0.7,\n",
              "                          learning_method='online', learning_offset=10.0,\n",
              "                          max_doc_update_iter=100, max_iter=25,\n",
              "                          mean_change_tol=0.001, n_components=50, n_jobs=None,\n",
              "                          perp_tol=0.1, random_state=0, topic_word_prior=None,\n",
              "                          total_samples=1000000.0, verbose=0)"
            ]
          },
          "metadata": {},
          "execution_count": 5
        }
      ]
    },
    {
      "cell_type": "code",
      "metadata": {
        "colab": {
          "base_uri": "https://localhost:8080/"
        },
        "id": "5CRCvG4aanLP",
        "outputId": "3184bb9f-06af-4571-edf2-711a17704849"
      },
      "source": [
        "# topic keywords\n",
        "\n",
        "def print_top_words(model, feature_names, n_top_words):\n",
        "    for topic_idx, topic in enumerate(model.components_):\n",
        "        message = f\"Topic #{topic_idx} Keywords: \"\n",
        "        message += \" \".join([feature_names[i]\n",
        "                            for i in topic.argsort()[:-n_top_words - 1:-1]])\n",
        "        print(message)\n",
        "    print()\n",
        "\n",
        "tf_feature_names = tf_vectorizer.get_feature_names()\n",
        "print_top_words(lda, tf_feature_names, 10)\n"
      ],
      "execution_count": 6,
      "outputs": [
        {
          "output_type": "stream",
          "text": [
            "Topic #0 Keywords: account facebook login log password code help email phone number\n",
            "Topic #1 Keywords: login app account enter problem times needed free deleted 14\n",
            "Topic #2 Keywords: bugs problems worst app broken update makes fixing worse unusable\n",
            "Topic #3 Keywords: pw requested fb till valid yesterday great later request solution\n",
            "Topic #4 Keywords: come notification garbage ones blocking birthday spend randomly box shortcuts\n",
            "Topic #5 Keywords: app don facebook use like good want just people platform\n",
            "Topic #6 Keywords: actions billion circles preventing bringing ship headache wth track weeks\n",
            "Topic #7 Keywords: play games playing game ups confirming rooms 2months role yahoo\n",
            "Topic #8 Keywords: order respond users months late gives push offer experience complete\n",
            "Topic #9 Keywords: seemingly relic greed permanently checked stolen mentions shutting complicated harmless\n",
            "Topic #10 Keywords: notifications page pages load view blank lots close battery created\n",
            "Topic #11 Keywords: facebook social media picture profile blocked joke touch using request\n",
            "Topic #12 Keywords: story control section videos appears night life suggest player loging\n",
            "Topic #13 Keywords: button home sounds wait 10 seconds icon overall earlier press\n",
            "Topic #14 Keywords: speech session check scrolling expired happens scroll private standards community\n",
            "Topic #15 Keywords: approval decade systems creator login details needed attempts code receiving\n",
            "Topic #16 Keywords: auto algorithm info words half word bad voice person suspended\n",
            "Topic #17 Keywords: support putting allowed event create longer ideology echo 60 essential\n",
            "Topic #18 Keywords: comment comments android likes posts replies frustrating new example clicking\n",
            "Topic #19 Keywords: ads ad annoying like just im doesn stop day fb\n",
            "Topic #20 Keywords: proves happily forgot beta designed searches jobs bloody audio rich\n",
            "Topic #21 Keywords: useless application totally messanger material sec browser suggests browsers suffering\n",
            "Topic #22 Keywords: matter middle menu posting expect image shouldn iphone limited refreshing\n",
            "Topic #23 Keywords: does world activity requests disappearing lol ignore particular direct results\n",
            "Topic #24 Keywords: white stay date allows bright deal automatic endless longer vision\n",
            "Topic #25 Keywords: usually act tracking hog darn bam repost unchecked host tapping\n",
            "Topic #26 Keywords: options pls instead select laggy freezing hiding asked limit self\n",
            "Topic #27 Keywords: facebook feed news just fact getting used people really ads\n",
            "Topic #28 Keywords: posts ago feed post friend days seeing news friends newsfeed\n",
            "Topic #29 Keywords: facebook user messages apps information free money adverts experience access\n",
            "Topic #30 Keywords: video app facebook videos like watch update really change delete\n",
            "Topic #31 Keywords: released officially window picking straw leaked oppo liability cherry evertime\n",
            "Topic #32 Keywords: star rate rating believe hit product chat showing unfortunately uninstall\n",
            "Topic #33 Keywords: wanted force tablet articles school landscape actions lost hangs inaccurate\n",
            "Topic #34 Keywords: accidentally nd fullscreen copyright window effect submitted greed fix 27\n",
            "Topic #35 Keywords: mode dark place use market friends gone update follow like\n",
            "Topic #36 Keywords: app facebook update fix problem time new issue working just\n",
            "Topic #37 Keywords: marketplace page post just fb friends app posts photos want\n",
            "Topic #38 Keywords: continuously restarts similarly reupload valid video upload screw reason sick\n",
            "Topic #39 Keywords: screen bug black volume restarting appreciate stand baby sooner fix\n",
            "Topic #40 Keywords: services class enabled risk party hire cheap offered persist flaws\n",
            "Topic #41 Keywords: feature timeline irritating tap fast forward fb miss disgusting missing\n",
            "Topic #42 Keywords: thingy concern list set problem said like pls just having\n",
            "Topic #43 Keywords: settings privacy uninstalled reinstalled taking disappeared music longer click lose\n",
            "Topic #44 Keywords: reply type disappointing birthdays sync horrendous limit 2x bar like\n",
            "Topic #45 Keywords: app facebook people ve just things fb friends say got\n",
            "Topic #46 Keywords: homepage pro chooses reviewing covered discontinued app glitchy happen phone\n",
            "Topic #47 Keywords: post groups share group shows covid think react members member\n",
            "Topic #48 Keywords: sort events lack incredibly censor uses context trump broad monitoring\n",
            "Topic #49 Keywords: business way service contact customer fb live accounts help account\n",
            "\n"
          ],
          "name": "stdout"
        }
      ]
    },
    {
      "cell_type": "code",
      "metadata": {
        "id": "GH3jDLJ0beu0"
      },
      "source": [
        "score = lda.transform(tf) #returns document topic distribution. shape [n_samples, n_components]\n",
        "\n",
        "topic_probs = np.sum(score, axis=0) #distribution of topic prominence across all documents\n",
        "topic_probs/=np.sum(topic_probs)    #normalzie to add up to 1\n",
        "\n",
        "documents_in_topic = [[]] *n_components  #contains the documents in each topic\n",
        "\n",
        "for doc_index, document in enumerate(score):\n",
        "    topic = documents_in_topic[np.argmax(document)].copy()\n",
        "    topic.append((doc_index, np.max(document)))\n",
        "    documents_in_topic[np.argmax(document)] = topic\n",
        "\n",
        "#sort\n",
        "for i in range(len(documents_in_topic)):\n",
        "    row = documents_in_topic[i].copy()\n",
        "    row.sort(key=lambda x:x[1]) #sort by probabilities (second in tuple)\n",
        "    row = row[::-1] #reverse to descending order\n",
        "    documents_in_topic[i] = row"
      ],
      "execution_count": 7,
      "outputs": []
    },
    {
      "cell_type": "code",
      "metadata": {
        "colab": {
          "base_uri": "https://localhost:8080/"
        },
        "id": "-ATLxUBN1zMQ",
        "outputId": "fcf1cf72-c27a-4dea-ed77-6acee88fb148"
      },
      "source": [
        "# print most prominent topics and sample documents for those topics\n",
        "\n",
        "def print_top_words_for_topic(model, feature_names, n_top_words, topic_idx, prominence):\n",
        "    topic = model.components_[topic_idx]\n",
        "    message = f\"Topic #{topic_idx}\\nProminence: {(prominence*100):.2f}%\\nKeywords: \"\n",
        "    message += \" \".join([feature_names[i]\n",
        "                        for i in topic.argsort()[:-n_top_words - 1:-1]])\n",
        "    print(message)\n",
        "\n",
        "\n",
        "n_top_topics = 10\n",
        "thresh = np.sort(topic_probs)[::-1][n_top_topics]\n",
        "for i, topic in enumerate(documents_in_topic):\n",
        "    if (topic_probs[i] > thresh):\n",
        "        print_top_words_for_topic(lda, tf_feature_names, 10, i, topic_probs[i])\n",
        "        print(\"Samples:\")\n",
        "        for doc in topic[:10]:\n",
        "            doc_idx, prob = doc\n",
        "            print(f\"- {reviews['content'][doc_idx]}\\tProb:{(prob*100):.2f}%\")\n",
        "        print(\"\\n\\n\")"
      ],
      "execution_count": 8,
      "outputs": [
        {
          "output_type": "stream",
          "text": [
            "Topic #0\n",
            "Prominence: 12.62%\n",
            "Keywords: account facebook login log password code help email phone number\n",
            "Samples:\n",
            "- I don't know how many times times i try to make account but every time i make account it got disabled without any reason. Facebook demands my email for verification but I'm not received any code . Please take a look . I want my account back 😬\tProb:95.74%\n",
            "- Someone have accessed my Facebook account without my permission. I am unable to log in my account because, they changed password, mail and phone number. I tried forgot password, all the otp's are sending to their email and phone number. I cannot access my personal account tiil now. I have mailed many times about my account recovery. No reply from Facebook community. Please take any action!\tProb:93.61%\n",
            "- I cannot login, Any account still cannot log, It always said login error try to log again, Hope u can fix it\tProb:91.09%\n",
            "- login problem alltime allways whenever am login my facebook account ❕ tell me how to fix the problem ...❔\tProb:90.20%\n",
            "- I haven't been able to login to my account. I have tried every solution given to me but NOTHING works!!! Ugh\tProb:90.20%\n",
            "- I have been cut off for whatever reason and when I get the codes to get back in,I enter it and it says wrong code! Really pissing me off!!!!!\tProb:90.20%\n",
            "- My Facebook has been hacked, and the hacker has changed my email and phone number. I don't have access to my account anymore, and the only option facebook is given is to enter email or number which has be changed. There should be other options\tProb:90.10%\n",
            "- In my phone there is a problem to login any facebook account. I tried several times but there is only one thing shown ie. An unexpected error is occur. And when i tried same account in any other phone, then id login easily.\tProb:89.36%\n",
            "- Someone login my account and change email, but i was too busy that i couldn't check my mail or id about a long time, when i back and try to login, it's show email are not valid like something, i checked my mail, they send me a mail and link to recover my account but when i click it's show link expired!!! And i never get back my account!\tProb:89.34%\n",
            "- Account was hacked (password, email, and phone number changed) I have been trying for 4 days to regain access and have been unsuccessful. I have uploaded my ID multiple times and still haven't had any luck. I have lost years worth of memories that I can never regain unless I regain access.\tProb:89.12%\n",
            "\n",
            "\n",
            "\n",
            "Topic #5\n",
            "Prominence: 5.27%\n",
            "Keywords: app don facebook use like good want just people platform\n",
            "Samples:\n",
            "- Half of the features on this app don't even work properly, the \"how to\" guides on Facebook's website are outdated and don't help. The app is full of hatred and misinformation which kinda discourages me from using it. Not to mention they use heavy censorship on ideas that Facebook's moderation team doesn't personally like. You can't even post pictures of toy guns without them removing it. Just like Twitter, it's a political cesspool of hatred masquerading as an information hub.\tProb:94.13%\n",
            "- The day Pet Society was shut down Facebook games were doomed. These stupid mobile games aren't a substitute. This platform, just like Twitter is FILLED with fake news and toxic people. And let's not talk about the new layout for computers! Having the option to switch back to the old layout was good, and you removed it because...? Seriously, I want to know why forcing this new stupid interface is a good idea. This platform is ruined.\tProb:92.90%\n",
            "- This application is boring boring boring, to download just 1 track you have to watch an ad for that, at first was amazing after I downloaded it, but after a day boom, don't even bother to download it\tProb:73.02%\n",
            "- Worst app on the net. There is absolutely no way to contact customer service even when literally millions of users need it on a practically daily basis. It's abortable that this company gets away with not assisting its customers in this blatant of a fashion. I'm currently locked out of my account for no reason whatsoever just not able to use it based on absolutely nothing, zero way to get in touch with anybody at Facebook to correct whatever their issue is. Hope the building sinks into the sea.\tProb:72.25%\n",
            "- This app is great the reason why I gave three stars are because when your data runs out you can use it for free\tProb:66.62%\n",
            "- It's a good app, depends on us how we use, & utilize, it is good for spreading information, about news, tech , education, political review, etc.\tProb:65.80%\n",
            "- Far too many adds. The biggest problem however is censorship and account restrictions. If one shares anything that does not favor the opinion of Facebook, or the mainstream narrative, one gets silenced. The hilarious part though is what most people share is already on the platform, so they get restricted for reposting it to their profile. Absolutely no logic and it appears free speech is not allowed. Facebook is a dying app in my opinion and the above is driving people away.\tProb:65.54%\n",
            "- I can personally say that it's a pretty good app, but it's very dangerous and unsafe. Unlike many other apps like TikTok, or Likee, this app is very unsafe and so not creative. My final opinion is that kids should never be on this app and this app should be more secured as well.\tProb:58.23%\n",
            "- Don't be surprised when you think your internet is down and it's just Facebook. Or when 80% of buttons do nothing because this app is garbage.\tProb:57.69%\n",
            "- I removed myself from Facebook because of how toxic it is the app crashes and not everyone is your friend. Lost friendships and relationships people don't care if I leave the platform no need to give it 5 stars because it ruins people.\tProb:56.74%\n",
            "\n",
            "\n",
            "\n",
            "Topic #19\n",
            "Prominence: 4.81%\n",
            "Keywords: ads ad annoying like just im doesn stop day fb\n",
            "Samples:\n",
            "- Completely ignores all ad preferences and are making it harder and harder to get rid of annoying ads. Seriously FB, I understand you lot need ad revenue, but when you don't have anything like a filter on your side and you take away the right of your users to filter out utterly uninteresting it even remotely interesting ads, then you're just running a spam platform.\tProb:97.03%\n",
            "- I dont like this AT ALL!!!! random ads pop up when I'm trying to go through my phone at random times. It's not convenient at all\tProb:81.68%\n",
            "- All of those ad settings that do absolutely nothing. I have hidden the same ad probably 10 times now. It says \"you won't see ads from X anymore\" but that's all it does. It literally just SAYS that. HIDE THE ADS IF I SAY HODE THE ADS.\tProb:73.82%\n",
            "- Came back to edit my review after so many years because Facebook is father of ads. Showing ads on each and everything again and again. Upto some limit is ok but not such big and annoying ads. And 3 to 4 times a day my account goes to be a suspicious so then each time I need to verify my identity ... WTH? Totally going to be rubbish. That was a great time when everyone was loving FB.\tProb:72.22%\n",
            "- Need to seriously chill with the ads. I don't understand how some of these cringe apps get approved for ad placement. And now we get \"Related Discussions\"! Who asked for this?\tProb:71.57%\n",
            "- Facebook keep showing me gambling ads even though i already report and hide it as spam and repetitive, it won't stop showing up and extremely annoying. \"We won't show these ads\" are not helping at all.\tProb:66.04%\n",
            "- ads ads ads everywhere. i know it's free but there are millions and millions of users so just a tad of ads can be okay but they show a lot if ads already\tProb:58.37%\n",
            "- Looked at a pair of sunglasses in an ad and all of the sudden there was an overwhelming amount of sunglass ads. Also when I talk to people about things with my phone nearby or in my pocket I get ads on what I was talking about. Very annoying\tProb:56.75%\n",
            "- Gonna complain about the ads.. it's so annoying when same ads over and over again keep popping up. Could you just put the non repetitive setting tho.. bad app for sure\tProb:55.85%\n",
            "- Too many unecessarry changes. Just stop changing everything because you're not making it easier to use by doing so.\tProb:55.78%\n",
            "\n",
            "\n",
            "\n",
            "Topic #27\n",
            "Prominence: 4.21%\n",
            "Keywords: facebook feed news just fact getting used people really ads\n",
            "Samples:\n",
            "- I get sent back to the beginning of my news feed every time I click on something! Reported for days! And now it's lagging! Nothing is right anymore. It used to be fun and relaxing! Still ongoing! 7/14/21 7/15/21 and again after I updated today 8/13/21.\tProb:95.74%\n",
            "- Just give up already. Facebook is outdated. The majority of facebook users are old people and its a fact. The 45 seconds ads are just pathetic. Nobody will play on facebook gaming. Admit it, you guys lost. Facebook was awesome but, its just time to let it go\tProb:88.08%\n",
            "- I hate it when I'm in the middle of reading an article and the page refreshs the page and loose the page. Still happen after weeks and weeks and weeks. You put the article on my page at least let me finish reading it. App gives you option to hide ads. Then ads show up multiple times. So what's the point of the option.\tProb:79.42%\n",
            "- It's very helpful this time because you can read a news while at the same time your getting fun.\tProb:74.23%\n",
            "- It's quite impressive really how many bugs the Facebook app and website still have x many years after they launched, given really very little has fundamentally changed. How can you have so many employees and yet still get so little fixed? Wow.\tProb:72.06%\n",
            "- Terrible app. Way too many ads in the feed and it is extremely annoying that \"friends\" stuff is lost to all the ads and other garbage that comes through the feed\tProb:71.15%\n",
            "- Facebook Stories should stay in stories section, which is on the top of Facebook home page, not in the middle of my news feed while I'm browsing. Its getting annoying. Get your sequence right!\tProb:68.88%\n",
            "- Facebook is just becoming so annoying everyday that passes by, trying to upload both videos and pictures with so much difficulty. It will just be getting out and in on its own. Is too bad, making it look so frustrating. Ive been trying to upload but couldn't. Is not good at all. Im not enjoying it at all.\tProb:68.17%\n",
            "- Horrible service. The worst available for any app actually. Theres no way to contact Facebook if your having a problem of any kind or need to notify of a bug. Right now you can only click on 1 marketplace item and then you have to go out of marketplace and back on and retype your search criteria to get the list again. This has been going on for weeks and theres no way to get help. It's something new all the time. Be available to the people making you so rich!!\tProb:67.70%\n",
            "- Restore Dark Mode, you horrible people! The brightness of regular Facebook is BLINDING!!! And for goodness sake, get rid of the \"Stories\" and make Facebook LOOK a little nicer!!! I mean its not rocket science, for goodness sake..... Multi billion dollar company and they can't even get basic stuff right..... Cmon people!\tProb:66.62%\n",
            "\n",
            "\n",
            "\n",
            "Topic #29\n",
            "Prominence: 2.51%\n",
            "Keywords: facebook user messages apps information free money adverts experience access\n",
            "Samples:\n",
            "- Does not update. Offers little user experience options. \"Free\" but have ads every 4th post. Does not allow customization. Constantly shows repeated posts, messenger shows notification dot when there are no messages and never clears, try to take off the top catagories but they just reappear, never see certain peoples posts.... Sadly for as many resources this should be a better experience.\tProb:77.42%\n",
            "- Be so careful what you say. What you think you said and what people read can be VERY different. Also, posts appear instantly but often can't be deleted. Not sure why a deleted comment would still be visible but again it can get you in a lot of bother. Data harvesting by Facebook is worrying, too. Avoid.\tProb:74.14%\n",
            "- Umpteen negative stars. I've been in \"Facebook Jail\" for a simple ID verification for 11 mo. I've completed with all requirements. I have neither recourse nor remedy. The song remaines the same: No access to account these 11 mo. of ID verification, after full compliance with their requirements. Give me my account back! Major Facebook Fail.... Reviewing Your Information May Take Longer Than Usual Thank you for sending your information. We have received it. We have fewer people.... 😖 🤬\tProb:68.04%\n",
            "- Buggy and overcomplicates things that should be easy ontop of removing a bunch of standard features each update. You'd think with a company with this much resources would have figured it out by now but I've seen people with less money, time and resources do a better job.\tProb:62.22%\n",
            "- Facebook is causing me so many problems because of the two messenger apps that have come out since 2017. In light of the Covid I've been quiet about it. Don't shoot the messenger. Right?Well I draw the line at being stalked by sex offenders in my Facebook. I draw the line at my messages being read by woman who accuse men of Raping them when that didn't happen as well.\tProb:60.28%\n",
            "- Y'all need to fix the message notification toggle... Keeps showing that there are unopened messages even after you've opened and read all messages. What's up with that?\tProb:48.43%\n",
            "- Facebook is going down hill recently with thousands of unwanted adds including false information. I have deselected all options from advertising and report every advert as spam and click not to see the advert yet they still appear. Facebook makes enough money from us so stop these Ad's There are other options to Facebook so don't think your untouchable as a large company.\tProb:46.87%\n",
            "- It does not unin stall in my samsung galaxy a 71 .please help me to uninstall this facebook app.my phone does not show any button for uninstall. It shows two options one is disable and update or remove not uninstall.\tProb:45.61%\n",
            "- Works good but when theirs a message from the messenger icon in this Facebook app and i click on it, it goes to messenger then logging in and then logging out and stays right there,so I can't read the messages.I think Facebook put the name thinkerbell for me and I've been trying to change it but can't seem to get it changed.\tProb:43.63%\n",
            "- If I could rate it zero stars I would but we are having issues with money transfer. I will not be using Facebook pay anymore.i wanted to transfer 200 of my money to my girlfriend. That money went Missing some how and I am not happy withit .my experience with this app. I have never had any issues having money being refunded right away. why is it taking so long to get it refunded back I want answers now and an explanation of where my money went.\tProb:40.78%\n",
            "\n",
            "\n",
            "\n",
            "Topic #30\n",
            "Prominence: 5.96%\n",
            "Keywords: video app facebook videos like watch update really change delete\n",
            "Samples:\n",
            "- The new update is a mess..the facebook videos are also updated to which that it is really infuriating..when i want to go back to the very beginning of the video, it wont let me do it and instead, it can only go back at 00:04 or 00:06.. then now, when i watch facebook videos, there is always a big white indent on the bottom of the video.. it doesn't show me the whole video.. you have to watch it in fullscreen which is very annoying bcoz its like the video is fading at the bottom part.. fix it now\tProb:94.00%\n",
            "- I have a complaint that in this Facebook app, every time I go to see the video and watch the videos on Facebook, it always takes me out of the video. I would like you to fix it in the app. And then I can't find the video. do you understand me? This is very boring\tProb:85.52%\n",
            "- Facebook was once a connecting app now it has changed into marketing app. You cannot choose what you want to see but it will automatically be decided by the app plus it tracks all my activity in other e-commerce app and starts suggesting me with similar ads. Annoying. I wish there was a similar app I would definitely like to shift to it from Facebook.\tProb:84.75%\n",
            "- Facebook is pretty worthless as a whole and not well monitored. You join groups and have adult debates yet Facebook will block you for 30 days using a non accurate system that labels everything as bullying. It's very pg 13 probably better for kids not adults. Pretty soon Facebook will be obsolete.its not safe a lot of hacking. Instagram is better\tProb:78.45%\n",
            "- I came from the iOS app and boy, is this a downgrade. It gets buggier with each update, notifications are a mess. Thought they were fixed with the newest update but they're broken again.\tProb:78.09%\n",
            "- The new update sucks. Can't even get the video drag back to 0:00. Will always stop at 0:04. Either that or I'll need to drag start to end to re-watch the first 4 seconds.\tProb:78.00%\n",
            "- Facebook dating icon is completely gone. Not that the app was any good, but I can't even get back in.\tProb:75.25%\n",
            "- Upgrade Upgrade Upgrade this app need every time Upgrade. Can you explain this problem? I can't Upgrade any more. I am so disappoint this app. So. I give you one star.\tProb:70.76%\n",
            "- App design is inconsistent in some places, like when I'm trying to edit something on my profile it acts like a browser. Moreover overall performance is somewhat slow and laggy. From a big company like Facebook you should at least expect a close to perfect app.\tProb:66.16%\n",
            "- no prob with this app , it's absaloutely amazing , i can watch many funny video and you can find anything like cooking recepies and more.\tProb:65.88%\n",
            "\n",
            "\n",
            "\n",
            "Topic #35\n",
            "Prominence: 3.34%\n",
            "Keywords: mode dark place use market friends gone update follow like\n",
            "Samples:\n",
            "- After an update on 8/13/2021 my dark mode is gone. The option is gone as well. I use dark mode as much as possible on all my apps. Because it's easier on my eyes. Why did you take away the dark mode??\tProb:95.10%\n",
            "- Way to many ads. The ads load twice now on the market place jumps. Need to fix the pages so I can block them, without reporting them. Also fix your filters, and search on market place. Need to fix your market place reporting I see a lot of scams of vehicles that are the same photos and every thing for sell in every town in the United States at the same time by the person on market place, can only contact though Email. So I report it. and it will be at the top of my market place the next time.\tProb:91.50%\n",
            "- It's become mostly \"sponsored ads\" and \"people you may know\", more than seeing my actual friend's activity or groups that I follow.-- Still can't edit a videos thumbnail, or quote, from app -- I was recently restricted twice, for a 4 year old post of a gif, that fb provided, and still provides.-- Please bring back the Ticker, or the ability to look up friends activity, as we could before.\tProb:70.43%\n",
            "- Trying to limit amount I use this. But is a useful tool for a business, that is when features from such things work as advertised. Perhaps if they contact the people that use those features and actually use the feedback given. Well there's a novel idea listening to your customers.\tProb:69.22%\n",
            "- After latest update, search display turn to white even though I had my phone in dark theme setting. It's hard for me to see what I type on keyboard\tProb:64.24%\n",
            "- It suddenly back to basic. I usually set the theme in dark mode. Now, I can't\tProb:62.75%\n",
            "- Again update takes away dark mode as someone who has to use dark mode as my eyes have trouble seeing text on a white back ground this is not on stop taking dark mode away everything you update\tProb:60.29%\n",
            "- Too many ads, hard to use, and all around awful, please dont use this!!!\tProb:58.16%\n",
            "- Dark mode won't work on latest update... Actually turned off my dark mode and it won't come back on. And because of my eye problems I cannot use Facebook anymore\tProb:53.97%\n",
            "- I have to use Dark Mode on this app and others. Which I could do perfectly well until yesterday when the app started displaying in normal mode and Dark Mode is no longer available. I need Dark Mode because it is easier on my eyes as I have Macular Degeneration. Why is Dark Mode not available any more?\tProb:53.79%\n",
            "\n",
            "\n",
            "\n",
            "Topic #36\n",
            "Prominence: 19.77%\n",
            "Keywords: app facebook update fix problem time new issue working just\n",
            "Samples:\n",
            "- My internet connection is okay now. But the app is not working well. It repeatedly says no internet connection. I've installed facebook lite. But it's hassle to work with that. Hope you guys will solve the problem. I run my business on Facebook. So it’s urgent to solve the problem.\tProb:96.23%\n",
            "- I can't use this updated version properly. It keeps on lagging. The previous version works fine. But this one? I don't know what happened. My phone is in good condition, fyi. It's this app who has a problem. Kindly fix this.\tProb:95.33%\n",
            "- For the past two to three day facebook has been telling me that my wifi is down when it is not. I tried everything and know nothing is working. It will not load anything new or even show me anything all it says that there is no wifi. This sucks. What is going on with facebook lately am I the only one getting this problem.\tProb:94.84%\n",
            "- I installed this app and when i was about to click, it cannot open. I don't know what's the problem. I opened the app for many times. I hope you'll fix this soon. Thanks.\tProb:93.87%\n",
            "- It's a problem, can you guys please stop using the Olympic Animation on the icon? I can't use Facebook properly because of this animation. Whenever this animation is showing up, facebook is lacking too much!\tProb:93.87%\n",
            "- Falcebook is not working well. Pictures are not getting edited when i add them in an album. I upload the pictures but they dont get uploaded.!! Plz fix it asap.\tProb:93.00%\n",
            "- Another app maintained by morons that seem to constantly want to do updates that make it not work right until you update it... -_- But you try and update and it won't update.\tProb:92.46%\n",
            "- While trying to log via app ot pops out with error always but log in using browser having no issues why app is not working\tProb:92.46%\n",
            "- Unable to post pictures on my page. Everytime I try it fails. Then it kicks me out of the app. Anyone else having this issue ?\tProb:91.83%\n",
            "- This FB is not running properly every time I update it but it not running properly. Always stopped it whenever I open it.not good at all.\tProb:91.09%\n",
            "\n",
            "\n",
            "\n",
            "Topic #37\n",
            "Prominence: 5.60%\n",
            "Keywords: marketplace page post just fb friends app posts photos want\n",
            "Samples:\n",
            "- It's a good app for staying in touch with family and friends. But you Have this VERY ANNOYING HABIT of zooming back to the top and making the what you are looking at disappear. Here's an idea have something on FB where you can see the last ten posts you looked at. Because not being able to locate what you were looking is REALLY ANNOYING.\tProb:95.10%\n",
            "- My complaint is Marketplace. We can't sell food items and you have a way of deleting those posts and apparently have enough manpower to provide individual censorship and remove posts as you see fit. I go to marketplace and sort via local only and I get millions of scammers wanting to ship their stuff to you. A. That is not local only as I selected and B. These are scams! The items they sell are not as they appear in the ad. You got the manpower, figure it out and get rid of these people.\tProb:91.39%\n",
            "- FB Marketplace has a BIG technical issue. The pictures on people's listings are no longer click able (at least on my phone). Not only does clicking on a listings main photo not open it for expansion, but I also can't swipe sideways to scroll through the listings other pics. UPDATE : NOW EVEN WORSE! MARKETPLACE IS NON-FUNCTIONAL. Can't click on anything, nothing loads, everything freezes. FB engineers should be fired for letting it go on this long.\tProb:83.45%\n",
            "- about publicizing the profile it only has friend of friends, friends, except, only me, close friend, specific, but it is no longer public, when you change the profile there it is public, but once you replace it with only me or whatever, if you want to be public, there is no public to choose from\tProb:83.16%\n",
            "- With every update this app has gotten slower and worse. Can't easily switch between personal and professional profiles to comment. Sometimes if i do something as my page when I try to go back to my personal profile it stays stuck as my page and i Can't comment on my friends post without restarting the app.\tProb:82.70%\n",
            "- Everytime I use the marketplace and click on the sellers pictures of items and try to zoom in the app keeps glitching and switching to other pictures or will zoom in but have another picture zoomed in next to it then I need to restart the app... SOO FRUSTRATING\tProb:80.28%\n",
            "- I only have FB for the marketplace, but there are many issues with it. Too many ads, listings don't show how long ago they were posted if over a week, sellers and buyers not responding while FB allows it, and trying to click on listings the app freezes. I really wish offerup and similar apps were more popular.\tProb:76.80%\n",
            "- This app used to be good for selling stuff on Marketplace, but it didn't make any money facilitating face to face transactions, so now it just pushes the shipping items and not the local ones. It's hard to buy or sell anymore. L\tProb:75.95%\n",
            "- After update the picture and photo keep blank. I cannot view the post with photo as the photo blank after update\tProb:73.77%\n",
            "- More like FilterBook. You can make your profile page, post photos, add friends and even make your own story posts. But it's all controlled. If the DEVs have the ability to remove content (that is viewed as \"innapropiate\") how come you can scroll and see that same innapropiate content? (If not worse)\tProb:72.89%\n",
            "\n",
            "\n",
            "\n",
            "Topic #45\n",
            "Prominence: 9.10%\n",
            "Keywords: app facebook people ve just things fb friends say got\n",
            "Samples:\n",
            "- Every day I surf the \"friends suggestions\" I find so many dirty accounts posting inappropriate things, porn and sexual pictures of naked girls, also some people that are not even relevant to my friends. My friends and a lot of people told me they have the same problem and they'll soon stop using this app because it became dirty. Please zuckerberg, FB team do something, don't let Facebook die this easy!\tProb:94.18%\n",
            "- Easy and great to keep in ytouch with family and friends i really enjoy my sessions on this app thank you facebook you really made it easy to keep in touch with family and friends.\tProb:93.47%\n",
            "- Great text translations via google translate however videos you see on facebook if people are speaking say in italian the Google translate option needs to be put with a easy send to link perhaps copy too in order to be changed into English speech or english text.its important when you want to learn to understand what people are speaking about so we can all learn not be confused.when I tried to translate it said this g oi es against our standards and was blocked.\tProb:92.11%\n",
            "- It keeps crashing, new videos won't appear in watch, plus Facebook rules aren't fair you give bans for writing normal things and don't ban the people who say Terrible things about other people or artists once reported by other people, saying that they didn't break fb rules while they clearly broke it .this app used to be my favorite. Not any more.\tProb:85.72%\n",
            "- Really frustrated.. the dark mode just disappeared. I really liked that. Easier on my eyes. I've tried cleaning cache, uninstalling updates, rebooting the phone, logging in and out repeatedly and I have a Galaxy S10 which apparently had it pre installed so it won't let me uninstall and reinstall. Fb lite does dark mode ok, but it's missing so much compared to the real thing that I hate it. I may have to go into the Samsung browser. At least tat browser does dark mode right on all the Web pages.\tProb:75.52%\n",
            "- Facebook use to be my favorite app until I'm getting into fb jail all the time for the stupidest things, they just put you in Facebook for the littlest things when they should be more worried about bullies and hackers on this app, there more worried that I say girls can be fake asf which no bad word is really shown, and I've gotten into fb jail for explaining that I was in fb jail for saying girls are fake asf, you see how that's annoying\tProb:74.51%\n",
            "- I really do enjoy Facebook is a great app you made a lot of people who have a lot of groups there's a lot of use a lot of friends a lot of people you get to know all around the world but they are guidelines and they are good ones them just be careful and have a good time be human act right\tProb:74.40%\n",
            "- The app works perfectly fine for me, but Facebook itself is no longer the same... I've been banned 3 times for the most ridiculous things... can't actually talk to people because you may go against their standards... or you get banned for sharing something you found on Facebook! So many ads too, like enough is enough! I'm using Instagram a lot more these days.\tProb:70.64%\n",
            "- It's a nice app but I think it could or should be more customizable. Maybe, let us have an option where we want our shortcut bar to be? Either from the top or bottom.\tProb:69.23%\n",
            "- It keeps telling me session time out. For no reason!!!! I don't get notified for a lot of things. This is ridiculous\tProb:68.21%\n",
            "\n",
            "\n",
            "\n"
          ],
          "name": "stdout"
        }
      ]
    }
  ]
}